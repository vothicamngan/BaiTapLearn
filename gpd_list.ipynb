{
 "cells": [
  {
   "cell_type": "code",
   "execution_count": 8,
   "metadata": {},
   "outputs": [],
   "source": [
    "import pandas as pd\n",
    "import matplotlib.pyplot as plt"
   ]
  },
  {
   "cell_type": "code",
   "execution_count": 4,
   "metadata": {},
   "outputs": [],
   "source": [
    "data = pd.read_csv('GDPlist.csv', encoding='ISO-8859-1')"
   ]
  },
  {
   "cell_type": "code",
   "execution_count": 5,
   "metadata": {},
   "outputs": [
    {
     "data": {
      "text/html": [
       "<div>\n",
       "<style scoped>\n",
       "    .dataframe tbody tr th:only-of-type {\n",
       "        vertical-align: middle;\n",
       "    }\n",
       "\n",
       "    .dataframe tbody tr th {\n",
       "        vertical-align: top;\n",
       "    }\n",
       "\n",
       "    .dataframe thead th {\n",
       "        text-align: right;\n",
       "    }\n",
       "</style>\n",
       "<table border=\"1\" class=\"dataframe\">\n",
       "  <thead>\n",
       "    <tr style=\"text-align: right;\">\n",
       "      <th></th>\n",
       "      <th>Country</th>\n",
       "      <th>Continent</th>\n",
       "      <th>GDP (millions of US$)</th>\n",
       "    </tr>\n",
       "  </thead>\n",
       "  <tbody>\n",
       "    <tr>\n",
       "      <th>0</th>\n",
       "      <td>Afghanistan</td>\n",
       "      <td>Asia</td>\n",
       "      <td>18181</td>\n",
       "    </tr>\n",
       "    <tr>\n",
       "      <th>1</th>\n",
       "      <td>Albania</td>\n",
       "      <td>Europe</td>\n",
       "      <td>12847</td>\n",
       "    </tr>\n",
       "    <tr>\n",
       "      <th>2</th>\n",
       "      <td>Algeria</td>\n",
       "      <td>Africa</td>\n",
       "      <td>190709</td>\n",
       "    </tr>\n",
       "    <tr>\n",
       "      <th>3</th>\n",
       "      <td>Angola</td>\n",
       "      <td>Africa</td>\n",
       "      <td>100948</td>\n",
       "    </tr>\n",
       "    <tr>\n",
       "      <th>4</th>\n",
       "      <td>Argentina</td>\n",
       "      <td>South America</td>\n",
       "      <td>447644</td>\n",
       "    </tr>\n",
       "  </tbody>\n",
       "</table>\n",
       "</div>"
      ],
      "text/plain": [
       "        Country      Continent  GDP (millions of US$)\n",
       "0   Afghanistan           Asia                  18181\n",
       "1       Albania         Europe                  12847\n",
       "2       Algeria         Africa                 190709\n",
       "3        Angola         Africa                 100948\n",
       "4     Argentina  South America                 447644"
      ]
     },
     "execution_count": 5,
     "metadata": {},
     "output_type": "execute_result"
    }
   ],
   "source": [
    "data.head()"
   ]
  },
  {
   "cell_type": "code",
   "execution_count": 6,
   "metadata": {},
   "outputs": [
    {
     "name": "stdout",
     "output_type": "stream",
     "text": [
      "<class 'pandas.core.frame.DataFrame'>\n",
      "RangeIndex: 125 entries, 0 to 124\n",
      "Data columns (total 3 columns):\n",
      " #   Column                 Non-Null Count  Dtype \n",
      "---  ------                 --------------  ----- \n",
      " 0   Country                125 non-null    object\n",
      " 1   Continent              125 non-null    object\n",
      " 2   GDP (millions of US$)  125 non-null    int64 \n",
      "dtypes: int64(1), object(2)\n",
      "memory usage: 3.1+ KB\n"
     ]
    }
   ],
   "source": [
    "data.info()"
   ]
  },
  {
   "cell_type": "markdown",
   "metadata": {},
   "source": [
    "Nhận xét dữ liệu:\n",
    "- Cấu trúc dữ liệu: Bộ dữ liệu có 3 cột và 125 dòng\n",
    "- Kiểu dữ liệu và thước đo:\n",
    "    * Cột country và Continent thuộc kiểu dữ liệu object mang tính định tính và thước đo định danh\n",
    "    * Cột GDP (millions of US$) thuộc kiểu dữ liệu int64 mang thuốc tính đình lượng và thuốc đo ratio"
   ]
  },
  {
   "cell_type": "code",
   "execution_count": 12,
   "metadata": {},
   "outputs": [
    {
     "data": {
      "text/plain": [
       "(array([62.,  7., 13.,  9.,  5.,  3.,  6.,  1.,  1.,  0.,  1.,  2.,  0.,\n",
       "         0.,  1.,  1.,  0.,  0.,  0.,  2.,  0.,  0.,  2.,  0.,  1.,  0.,\n",
       "         0.,  0.,  0.,  1.,  0.,  1.,  1.,  0.,  0.,  0.,  1.,  0.,  0.,\n",
       "         0.,  0.,  0.,  0.,  0.,  0.,  0.,  0.,  1.,  0.,  0.,  0.,  0.,\n",
       "         0.,  0.,  0.,  0.,  0.,  0.,  0.,  0.,  0.,  0.,  0.,  0.,  0.,\n",
       "         0.,  0.,  0.,  0.,  0.,  0.,  0.,  0.,  0.,  0.,  0.,  0.,  1.,\n",
       "         0.,  0.,  0.,  0.,  0.,  0.,  0.,  0.,  0.,  0.,  0.,  0.,  0.,\n",
       "         0.,  0.,  0.,  0.,  0.,  1.,  0.,  0.,  0.,  0.,  0.,  0.,  0.,\n",
       "         0.,  0.,  0.,  0.,  0.,  0.,  0.,  0.,  0.,  0.,  0.,  0.,  0.,\n",
       "         0.,  0.,  0.,  0.,  0.,  0.,  0.,  0.,  0.,  0.,  0.,  0.,  0.,\n",
       "         0.,  0.,  0.,  0.,  0.,  0.,  0.,  0.,  0.,  0.,  0.,  0.,  0.,\n",
       "         0.,  0.,  0.,  0.,  0.,  0.,  0.,  0.,  0.,  0.,  0.,  0.,  0.,\n",
       "         0.,  0.,  0.,  0.,  0.,  0.,  0.,  0.,  0.,  0.,  0.,  0.,  0.,\n",
       "         0.,  0.,  0.,  0.,  0.,  0.,  0.,  0.,  0.,  0.,  0.,  0.,  0.,\n",
       "         0.,  0.,  0.,  0.,  0.,  0.,  0.,  0.,  0.,  0.,  0.,  0.,  0.,\n",
       "         0.,  0.,  0.,  0.,  1.]),\n",
       " array([1.06000000e+04, 8.60171250e+04, 1.61434250e+05, 2.36851375e+05,\n",
       "        3.12268500e+05, 3.87685625e+05, 4.63102750e+05, 5.38519875e+05,\n",
       "        6.13937000e+05, 6.89354125e+05, 7.64771250e+05, 8.40188375e+05,\n",
       "        9.15605500e+05, 9.91022625e+05, 1.06643975e+06, 1.14185688e+06,\n",
       "        1.21727400e+06, 1.29269112e+06, 1.36810825e+06, 1.44352538e+06,\n",
       "        1.51894250e+06, 1.59435962e+06, 1.66977675e+06, 1.74519388e+06,\n",
       "        1.82061100e+06, 1.89602812e+06, 1.97144525e+06, 2.04686238e+06,\n",
       "        2.12227950e+06, 2.19769662e+06, 2.27311375e+06, 2.34853088e+06,\n",
       "        2.42394800e+06, 2.49936512e+06, 2.57478225e+06, 2.65019938e+06,\n",
       "        2.72561650e+06, 2.80103362e+06, 2.87645075e+06, 2.95186788e+06,\n",
       "        3.02728500e+06, 3.10270212e+06, 3.17811925e+06, 3.25353638e+06,\n",
       "        3.32895350e+06, 3.40437062e+06, 3.47978775e+06, 3.55520488e+06,\n",
       "        3.63062200e+06, 3.70603912e+06, 3.78145625e+06, 3.85687338e+06,\n",
       "        3.93229050e+06, 4.00770762e+06, 4.08312475e+06, 4.15854188e+06,\n",
       "        4.23395900e+06, 4.30937612e+06, 4.38479325e+06, 4.46021038e+06,\n",
       "        4.53562750e+06, 4.61104462e+06, 4.68646175e+06, 4.76187888e+06,\n",
       "        4.83729600e+06, 4.91271312e+06, 4.98813025e+06, 5.06354738e+06,\n",
       "        5.13896450e+06, 5.21438162e+06, 5.28979875e+06, 5.36521588e+06,\n",
       "        5.44063300e+06, 5.51605012e+06, 5.59146725e+06, 5.66688438e+06,\n",
       "        5.74230150e+06, 5.81771862e+06, 5.89313575e+06, 5.96855288e+06,\n",
       "        6.04397000e+06, 6.11938712e+06, 6.19480425e+06, 6.27022138e+06,\n",
       "        6.34563850e+06, 6.42105562e+06, 6.49647275e+06, 6.57188988e+06,\n",
       "        6.64730700e+06, 6.72272412e+06, 6.79814125e+06, 6.87355838e+06,\n",
       "        6.94897550e+06, 7.02439262e+06, 7.09980975e+06, 7.17522688e+06,\n",
       "        7.25064400e+06, 7.32606112e+06, 7.40147825e+06, 7.47689538e+06,\n",
       "        7.55231250e+06, 7.62772962e+06, 7.70314675e+06, 7.77856388e+06,\n",
       "        7.85398100e+06, 7.92939812e+06, 8.00481525e+06, 8.08023238e+06,\n",
       "        8.15564950e+06, 8.23106662e+06, 8.30648375e+06, 8.38190088e+06,\n",
       "        8.45731800e+06, 8.53273512e+06, 8.60815225e+06, 8.68356938e+06,\n",
       "        8.75898650e+06, 8.83440362e+06, 8.90982075e+06, 8.98523788e+06,\n",
       "        9.06065500e+06, 9.13607212e+06, 9.21148925e+06, 9.28690638e+06,\n",
       "        9.36232350e+06, 9.43774062e+06, 9.51315775e+06, 9.58857488e+06,\n",
       "        9.66399200e+06, 9.73940912e+06, 9.81482625e+06, 9.89024338e+06,\n",
       "        9.96566050e+06, 1.00410776e+07, 1.01164948e+07, 1.01919119e+07,\n",
       "        1.02673290e+07, 1.03427461e+07, 1.04181632e+07, 1.04935804e+07,\n",
       "        1.05689975e+07, 1.06444146e+07, 1.07198318e+07, 1.07952489e+07,\n",
       "        1.08706660e+07, 1.09460831e+07, 1.10215002e+07, 1.10969174e+07,\n",
       "        1.11723345e+07, 1.12477516e+07, 1.13231688e+07, 1.13985859e+07,\n",
       "        1.14740030e+07, 1.15494201e+07, 1.16248372e+07, 1.17002544e+07,\n",
       "        1.17756715e+07, 1.18510886e+07, 1.19265058e+07, 1.20019229e+07,\n",
       "        1.20773400e+07, 1.21527571e+07, 1.22281742e+07, 1.23035914e+07,\n",
       "        1.23790085e+07, 1.24544256e+07, 1.25298428e+07, 1.26052599e+07,\n",
       "        1.26806770e+07, 1.27560941e+07, 1.28315112e+07, 1.29069284e+07,\n",
       "        1.29823455e+07, 1.30577626e+07, 1.31331798e+07, 1.32085969e+07,\n",
       "        1.32840140e+07, 1.33594311e+07, 1.34348482e+07, 1.35102654e+07,\n",
       "        1.35856825e+07, 1.36610996e+07, 1.37365168e+07, 1.38119339e+07,\n",
       "        1.38873510e+07, 1.39627681e+07, 1.40381852e+07, 1.41136024e+07,\n",
       "        1.41890195e+07, 1.42644366e+07, 1.43398538e+07, 1.44152709e+07,\n",
       "        1.44906880e+07, 1.45661051e+07, 1.46415222e+07, 1.47169394e+07,\n",
       "        1.47923565e+07, 1.48677736e+07, 1.49431908e+07, 1.50186079e+07,\n",
       "        1.50940250e+07]),\n",
       " <BarContainer object of 200 artists>)"
      ]
     },
     "execution_count": 12,
     "metadata": {},
     "output_type": "execute_result"
    },
    {
     "data": {
      "image/png": "[encoded data removed]",
      "text/plain": [
       "<Figure size 640x480 with 1 Axes>"
      ]
     },
     "metadata": {},
     "output_type": "display_data"
    }
   ],
   "source": [
    "plt.hist(data['GDP (millions of US$)'], bins=200)"
   ]
  },
  {
   "cell_type": "markdown",
   "metadata": {},
   "source": [
    "Biểu đồ histogram cho thấy sự phân bổ GDP giữa các quốc gia không đồng điều"
   ]
  },
  {
   "cell_type": "code",
   "execution_count": 15,
   "metadata": {},
   "outputs": [
    {
     "data": {
      "text/html": [
       "<div>\n",
       "<style scoped>\n",
       "    .dataframe tbody tr th:only-of-type {\n",
       "        vertical-align: middle;\n",
       "    }\n",
       "\n",
       "    .dataframe tbody tr th {\n",
       "        vertical-align: top;\n",
       "    }\n",
       "\n",
       "    .dataframe thead th {\n",
       "        text-align: right;\n",
       "    }\n",
       "</style>\n",
       "<table border=\"1\" class=\"dataframe\">\n",
       "  <thead>\n",
       "    <tr style=\"text-align: right;\">\n",
       "      <th></th>\n",
       "      <th>Continent</th>\n",
       "      <th>Country</th>\n",
       "    </tr>\n",
       "  </thead>\n",
       "  <tbody>\n",
       "    <tr>\n",
       "      <th>0</th>\n",
       "      <td>Africa</td>\n",
       "      <td>29</td>\n",
       "    </tr>\n",
       "    <tr>\n",
       "      <th>1</th>\n",
       "      <td>Asia</td>\n",
       "      <td>36</td>\n",
       "    </tr>\n",
       "    <tr>\n",
       "      <th>2</th>\n",
       "      <td>Europe</td>\n",
       "      <td>37</td>\n",
       "    </tr>\n",
       "    <tr>\n",
       "      <th>3</th>\n",
       "      <td>North America</td>\n",
       "      <td>11</td>\n",
       "    </tr>\n",
       "    <tr>\n",
       "      <th>4</th>\n",
       "      <td>Oceania</td>\n",
       "      <td>3</td>\n",
       "    </tr>\n",
       "    <tr>\n",
       "      <th>5</th>\n",
       "      <td>South America</td>\n",
       "      <td>9</td>\n",
       "    </tr>\n",
       "  </tbody>\n",
       "</table>\n",
       "</div>"
      ],
      "text/plain": [
       "       Continent  Country\n",
       "0         Africa       29\n",
       "1           Asia       36\n",
       "2         Europe       37\n",
       "3  North America       11\n",
       "4        Oceania        3\n",
       "5  South America        9"
      ]
     },
     "execution_count": 15,
     "metadata": {},
     "output_type": "execute_result"
    }
   ],
   "source": [
    "data_continent = data.groupby('Continent')['Country'].count().reset_index()\n",
    "data_continent"
   ]
  },
  {
   "cell_type": "code",
   "execution_count": 16,
   "metadata": {},
   "outputs": [
    {
     "data": {
      "text/html": [
       "<div>\n",
       "<style scoped>\n",
       "    .dataframe tbody tr th:only-of-type {\n",
       "        vertical-align: middle;\n",
       "    }\n",
       "\n",
       "    .dataframe tbody tr th {\n",
       "        vertical-align: top;\n",
       "    }\n",
       "\n",
       "    .dataframe thead th {\n",
       "        text-align: right;\n",
       "    }\n",
       "</style>\n",
       "<table border=\"1\" class=\"dataframe\">\n",
       "  <thead>\n",
       "    <tr style=\"text-align: right;\">\n",
       "      <th></th>\n",
       "      <th>Continent</th>\n",
       "      <th>GDP (millions of US$)</th>\n",
       "    </tr>\n",
       "  </thead>\n",
       "  <tbody>\n",
       "    <tr>\n",
       "      <th>0</th>\n",
       "      <td>Africa</td>\n",
       "      <td>1820811</td>\n",
       "    </tr>\n",
       "    <tr>\n",
       "      <th>1</th>\n",
       "      <td>Asia</td>\n",
       "      <td>24425891</td>\n",
       "    </tr>\n",
       "    <tr>\n",
       "      <th>2</th>\n",
       "      <td>Europe</td>\n",
       "      <td>19139380</td>\n",
       "    </tr>\n",
       "    <tr>\n",
       "      <th>3</th>\n",
       "      <td>North America</td>\n",
       "      <td>18238447</td>\n",
       "    </tr>\n",
       "    <tr>\n",
       "      <th>4</th>\n",
       "      <td>Oceania</td>\n",
       "      <td>1662727</td>\n",
       "    </tr>\n",
       "    <tr>\n",
       "      <th>5</th>\n",
       "      <td>South America</td>\n",
       "      <td>4141217</td>\n",
       "    </tr>\n",
       "  </tbody>\n",
       "</table>\n",
       "</div>"
      ],
      "text/plain": [
       "       Continent  GDP (millions of US$)\n",
       "0         Africa                1820811\n",
       "1           Asia               24425891\n",
       "2         Europe               19139380\n",
       "3  North America               18238447\n",
       "4        Oceania                1662727\n",
       "5  South America                4141217"
      ]
     },
     "execution_count": 16,
     "metadata": {},
     "output_type": "execute_result"
    }
   ],
   "source": [
    "gdp_continent = data.groupby('Continent')['GDP (millions of US$)'].sum().reset_index()\n",
    "gdp_continent"
   ]
  },
  {
   "cell_type": "code",
   "execution_count": 19,
   "metadata": {},
   "outputs": [
    {
     "data": {
      "text/html": [
       "<div>\n",
       "<style scoped>\n",
       "    .dataframe tbody tr th:only-of-type {\n",
       "        vertical-align: middle;\n",
       "    }\n",
       "\n",
       "    .dataframe tbody tr th {\n",
       "        vertical-align: top;\n",
       "    }\n",
       "\n",
       "    .dataframe thead th {\n",
       "        text-align: right;\n",
       "    }\n",
       "</style>\n",
       "<table border=\"1\" class=\"dataframe\">\n",
       "  <thead>\n",
       "    <tr style=\"text-align: right;\">\n",
       "      <th></th>\n",
       "      <th>Country</th>\n",
       "      <th>Continent</th>\n",
       "      <th>GDP (millions of US$)</th>\n",
       "    </tr>\n",
       "  </thead>\n",
       "  <tbody>\n",
       "    <tr>\n",
       "      <th>118</th>\n",
       "      <td>United States</td>\n",
       "      <td>North America</td>\n",
       "      <td>15094025</td>\n",
       "    </tr>\n",
       "    <tr>\n",
       "      <th>23</th>\n",
       "      <td>China</td>\n",
       "      <td>Asia</td>\n",
       "      <td>7298147</td>\n",
       "    </tr>\n",
       "    <tr>\n",
       "      <th>60</th>\n",
       "      <td>Japan</td>\n",
       "      <td>Asia</td>\n",
       "      <td>5869471</td>\n",
       "    </tr>\n",
       "    <tr>\n",
       "      <th>44</th>\n",
       "      <td>Germany</td>\n",
       "      <td>Europe</td>\n",
       "      <td>3577031</td>\n",
       "    </tr>\n",
       "    <tr>\n",
       "      <th>41</th>\n",
       "      <td>France</td>\n",
       "      <td>Europe</td>\n",
       "      <td>2776324</td>\n",
       "    </tr>\n",
       "    <tr>\n",
       "      <th>15</th>\n",
       "      <td>Brazil</td>\n",
       "      <td>South America</td>\n",
       "      <td>2492908</td>\n",
       "    </tr>\n",
       "    <tr>\n",
       "      <th>117</th>\n",
       "      <td>United Kingdom</td>\n",
       "      <td>Europe</td>\n",
       "      <td>2417570</td>\n",
       "    </tr>\n",
       "    <tr>\n",
       "      <th>58</th>\n",
       "      <td>Italy</td>\n",
       "      <td>Europe</td>\n",
       "      <td>2198730</td>\n",
       "    </tr>\n",
       "    <tr>\n",
       "      <th>93</th>\n",
       "      <td>Russia</td>\n",
       "      <td>Asia</td>\n",
       "      <td>1850401</td>\n",
       "    </tr>\n",
       "    <tr>\n",
       "      <th>21</th>\n",
       "      <td>Canada</td>\n",
       "      <td>North America</td>\n",
       "      <td>1736869</td>\n",
       "    </tr>\n",
       "  </tbody>\n",
       "</table>\n",
       "</div>"
      ],
      "text/plain": [
       "             Country      Continent  GDP (millions of US$)\n",
       "118    United States  North America               15094025\n",
       "23             China           Asia                7298147\n",
       "60             Japan           Asia                5869471\n",
       "44           Germany         Europe                3577031\n",
       "41            France         Europe                2776324\n",
       "15            Brazil  South America                2492908\n",
       "117   United Kingdom         Europe                2417570\n",
       "58             Italy         Europe                2198730\n",
       "93            Russia           Asia                1850401\n",
       "21            Canada  North America                1736869"
      ]
     },
     "execution_count": 19,
     "metadata": {},
     "output_type": "execute_result"
    }
   ],
   "source": [
    "data = data.sort_values('GDP (millions of US$)', ascending=False)\n",
    "data.head(10)"
   ]
  }
 ],
 "metadata": {
  "kernelspec": {
   "display_name": "Python 3",
   "language": "python",
   "name": "python3"
  },
  "language_info": {
   "codemirror_mode": {
    "name": "ipython",
    "version": 3
   },
   "file_extension": ".py",
   "mimetype": "text/x-python",
   "name": "python",
   "nbconvert_exporter": "python",
   "pygments_lexer": "ipython3",
   "version": "3.11.4"
  }
 },
 "nbformat": 4,
 "nbformat_minor": 2
}
